{
    "metadata": {
        "kernelspec": {
            "name": "SQL",
            "display_name": "SQL",
            "language": "sql"
        },
        "language_info": {
            "name": "sql",
            "version": ""
        }
    },
    "nbformat_minor": 2,
    "nbformat": 4,
    "cells": [
        {
            "cell_type": "code",
            "source": [
                "-- DROP ENTIRE SCHEMA\r\n",
                "\r\n",
                "DECLARE @sql NVARCHAR(MAX) = '';\r\n",
                "SELECT @sql += 'DROP TABLE ' + QUOTENAME(SCHEMA_NAME(schema_id)) + '.' + QUOTENAME(name) + '; '\r\n",
                "FROM sys.tables\r\n",
                "WHERE schema_id = SCHEMA_ID('bidrl');\r\n",
                "EXEC sp_executesql @sql;"
            ],
            "metadata": {
                "language": "sql",
                "azdata_cell_guid": "3c5f8117-0cda-4c44-9d90-3f1f6085119a"
            },
            "outputs": [
                {
                    "output_type": "display_data",
                    "data": {
                        "text/html": "Commands completed successfully."
                    },
                    "metadata": {}
                },
                {
                    "output_type": "display_data",
                    "data": {
                        "text/html": "Total execution time: 00:00:00.003"
                    },
                    "metadata": {}
                }
            ],
            "execution_count": 13
        },
        {
            "cell_type": "code",
            "source": [
                "-- create bidrl schema\r\n",
                "\r\n",
                "IF NOT EXISTS (SELECT * FROM sys.schemas WHERE name = 'bidrl')\r\n",
                "    EXEC('CREATE SCHEMA bidrl')"
            ],
            "metadata": {
                "language": "sql",
                "azdata_cell_guid": "b3d03fbc-3e54-4e22-bd69-ebb8d13ceca2",
                "tags": []
            },
            "outputs": [
                {
                    "output_type": "display_data",
                    "data": {
                        "text/html": "Commands completed successfully."
                    },
                    "metadata": {}
                },
                {
                    "output_type": "display_data",
                    "data": {
                        "text/html": "Total execution time: 00:00:00.003"
                    },
                    "metadata": {}
                }
            ],
            "execution_count": 14
        },
        {
            "cell_type": "code",
            "source": [
                "DROP TABLE IF EXISTS bidrl.items;\r\n",
                "\r\n",
                "-- Create 'items' table if it does not exist\r\n",
                "CREATE TABLE bidrl.items (\r\n",
                "    item_id INT PRIMARY KEY\r\n",
                "    , auction_id INT\r\n",
                "    , description NVARCHAR(255)\r\n",
                "    , end_time_unix BIGINT\r\n",
                "    , url NVARCHAR(255)\r\n",
                "    , tax_rate\r\n",
                "    , buyer_premium\r\n",
                "    , highest_bid\r\n",
                "    , highbidder_username\r\n",
                "    , lot_number\r\n",
                "    , bidding_status\r\n",
                "    , is_favorite\r\n",
                "    , bid_count\r\n",
                "    , total_cost\r\n",
                "    , cost_split\r\n",
                "    , max_desired_bid\r\n",
                ");"
            ],
            "metadata": {
                "language": "sql",
                "azdata_cell_guid": "5715fd5d-d69f-4d41-abb5-332db083b50b"
            },
            "outputs": [
                {
                    "output_type": "display_data",
                    "data": {
                        "text/html": "Commands completed successfully."
                    },
                    "metadata": {}
                },
                {
                    "output_type": "display_data",
                    "data": {
                        "text/html": "Total execution time: 00:00:00.004"
                    },
                    "metadata": {}
                }
            ],
            "execution_count": 15
        },
        {
            "cell_type": "code",
            "source": [
                "DROP TABLE IF EXISTS bidrl.user_items;\r\n",
                "\r\n",
                "-- Create 'user_items' table if it does not exist\r\n",
                "-- This table will hold all of the information about a user-item association.\r\n",
                "-- Ex: does a user have an item favorited? how many times did a user bid on the item? what is the value of cost_split or other custom fields for that user for that item?\r\n",
                "CREATE TABLE bidrl.user_items (\r\n",
                "    username NVARCHAR(255)\r\n",
                "    , item_id INT\r\n",
                "    , is_favorite BINARY\r\n",
                "    , cost_split NVARCHAR(8)\r\n",
                "    , max_desired_bid FLOAT\r\n",
                ");"
            ],
            "metadata": {
                "language": "sql",
                "azdata_cell_guid": "8736b04d-6a87-4186-b6c6-07b8af24b633",
                "tags": []
            },
            "outputs": [
                {
                    "output_type": "display_data",
                    "data": {
                        "text/html": "Commands completed successfully."
                    },
                    "metadata": {}
                },
                {
                    "output_type": "display_data",
                    "data": {
                        "text/html": "Total execution time: 00:00:00"
                    },
                    "metadata": {}
                }
            ],
            "execution_count": 16
        },
        {
            "cell_type": "code",
            "source": [
                ""
            ],
            "metadata": {
                "language": "sql",
                "azdata_cell_guid": "6d7ce9e5-1cad-414a-a424-8757c691d2ef"
            },
            "outputs": [
                {
                    "output_type": "display_data",
                    "data": {
                        "text/html": "Commands completed successfully."
                    },
                    "metadata": {}
                },
                {
                    "output_type": "display_data",
                    "data": {
                        "text/html": "Total execution time: 00:00:00"
                    },
                    "metadata": {}
                }
            ],
            "execution_count": 17
        },
        {
            "cell_type": "code",
            "source": [
                ""
            ],
            "metadata": {
                "language": "sql",
                "azdata_cell_guid": "62dc0eb9-f58f-46a8-bc35-b0c315c9b4b3"
            },
            "outputs": [
                {
                    "output_type": "display_data",
                    "data": {
                        "text/html": "Commands completed successfully."
                    },
                    "metadata": {}
                },
                {
                    "output_type": "display_data",
                    "data": {
                        "text/html": "Total execution time: 00:00:00"
                    },
                    "metadata": {}
                }
            ],
            "execution_count": 18
        },
        {
            "cell_type": "code",
            "source": [
                ""
            ],
            "metadata": {
                "language": "sql",
                "azdata_cell_guid": "54c739fa-4e52-4add-b929-75e2ab9fb923"
            },
            "outputs": [
                {
                    "output_type": "display_data",
                    "data": {
                        "text/html": "Commands completed successfully."
                    },
                    "metadata": {}
                },
                {
                    "output_type": "display_data",
                    "data": {
                        "text/html": "Total execution time: 00:00:00"
                    },
                    "metadata": {}
                }
            ],
            "execution_count": 19
        },
        {
            "cell_type": "code",
            "source": [
                ""
            ],
            "metadata": {
                "language": "sql",
                "azdata_cell_guid": "dc8146b8-d324-4ae9-9e8b-c3208f186cc2"
            },
            "outputs": [
                {
                    "output_type": "display_data",
                    "data": {
                        "text/html": "Commands completed successfully."
                    },
                    "metadata": {}
                },
                {
                    "output_type": "display_data",
                    "data": {
                        "text/html": "Total execution time: 00:00:00"
                    },
                    "metadata": {}
                }
            ],
            "execution_count": 20
        },
        {
            "cell_type": "code",
            "source": [
                ""
            ],
            "metadata": {
                "language": "sql",
                "azdata_cell_guid": "047eafaf-3211-476e-b74a-9b04b9d8cd11"
            },
            "outputs": [
                {
                    "output_type": "display_data",
                    "data": {
                        "text/html": "Commands completed successfully."
                    },
                    "metadata": {}
                },
                {
                    "output_type": "display_data",
                    "data": {
                        "text/html": "Total execution time: 00:00:00"
                    },
                    "metadata": {}
                }
            ],
            "execution_count": 21
        },
        {
            "cell_type": "code",
            "source": [
                ""
            ],
            "metadata": {
                "language": "sql",
                "azdata_cell_guid": "04c2d4ed-7e5e-4d68-a22e-282dcd59dac6"
            },
            "outputs": [
                {
                    "output_type": "display_data",
                    "data": {
                        "text/html": "Commands completed successfully."
                    },
                    "metadata": {}
                },
                {
                    "output_type": "display_data",
                    "data": {
                        "text/html": "Total execution time: 00:00:00"
                    },
                    "metadata": {}
                }
            ],
            "execution_count": 22
        },
        {
            "cell_type": "code",
            "source": [
                ""
            ],
            "metadata": {
                "language": "sql",
                "azdata_cell_guid": "ec070dd5-7d29-4e5d-a366-f989f32af943"
            },
            "outputs": [
                {
                    "output_type": "display_data",
                    "data": {
                        "text/html": "Commands completed successfully."
                    },
                    "metadata": {}
                },
                {
                    "output_type": "display_data",
                    "data": {
                        "text/html": "Total execution time: 00:00:00"
                    },
                    "metadata": {}
                }
            ],
            "execution_count": 23
        },
        {
            "cell_type": "code",
            "source": [
                ""
            ],
            "metadata": {
                "language": "sql",
                "azdata_cell_guid": "5d78ded3-f305-4b24-a9e1-2aa8932931f4"
            },
            "outputs": [
                {
                    "output_type": "display_data",
                    "data": {
                        "text/html": "Commands completed successfully."
                    },
                    "metadata": {}
                },
                {
                    "output_type": "display_data",
                    "data": {
                        "text/html": "Total execution time: 00:00:00"
                    },
                    "metadata": {}
                }
            ],
            "execution_count": 24
        },
        {
            "cell_type": "code",
            "source": [
                "-- Set the default schema\r\n",
                "USE BFDB;\r\n",
                "\r\n",
                "\r\n",
                "\r\n",
                "-- Create 'auctions' table if it does not exist\r\n",
                "CREATE TABLE IF NOT EXISTS auctions (\r\n",
                "    auction_id INT PRIMARY KEY,\r\n",
                "    title VARCHAR(255),\r\n",
                "    start_time_unix BIGINT,\r\n",
                "    end_time_unix BIGINT,\r\n",
                "    status VARCHAR(50)\r\n",
                ");\r\n",
                "\r\n",
                "-- Create 'invoices' table if it does not exist\r\n",
                "CREATE TABLE IF NOT EXISTS invoices (\r\n",
                "    invoice_id INT PRIMARY KEY,\r\n",
                "    user_id INT,\r\n",
                "    auction_id INT,\r\n",
                "    total_amount DECIMAL(10, 2),\r\n",
                "    issued_date DATE,\r\n",
                "    due_date DATE,\r\n",
                "    status VARCHAR(50)\r\n",
                ");\r\n",
                "\r\n",
                "-- Create 'users' table if it does not exist\r\n",
                "CREATE TABLE IF NOT EXISTS users (\r\n",
                "    user_id INT PRIMARY KEY,\r\n",
                "    username VARCHAR(255),\r\n",
                "    password_hash VARCHAR(255),\r\n",
                "    email VARCHAR(255),\r\n",
                "    created_at TIMESTAMP\r\n",
                ");\r\n",
                "\r\n",
                "-- Create 'bid_history' table if it does not exist\r\n",
                "CREATE TABLE IF NOT EXISTS bid_history (\r\n",
                "    bid_id INT PRIMARY KEY,\r\n",
                "    user_id INT,\r\n",
                "    item_id INT,\r\n",
                "    bid_amount DECIMAL(10, 2),\r\n",
                "    bid_time TIMESTAMP\r\n",
                ");"
            ],
            "metadata": {
                "azdata_cell_guid": "d189dc59-d801-4043-aeec-fc287ca4b52b",
                "language": "sql",
                "tags": []
            },
            "outputs": [
                {
                    "output_type": "error",
                    "evalue": "Msg 156, Level 15, State 1, Line 7\r\nIncorrect syntax near the keyword 'IF'.",
                    "ename": "",
                    "traceback": []
                },
                {
                    "output_type": "error",
                    "evalue": "Msg 102, Level 15, State 1, Line 7\r\nIncorrect syntax near 'auctions'.",
                    "ename": "",
                    "traceback": []
                },
                {
                    "output_type": "error",
                    "evalue": "Msg 102, Level 15, State 1, Line 16\r\nIncorrect syntax near 'invoices'.",
                    "ename": "",
                    "traceback": []
                },
                {
                    "output_type": "error",
                    "evalue": "Msg 102, Level 15, State 1, Line 27\r\nIncorrect syntax near 'users'.",
                    "ename": "",
                    "traceback": []
                },
                {
                    "output_type": "error",
                    "evalue": "Msg 102, Level 15, State 1, Line 36\r\nIncorrect syntax near 'bid_history'.",
                    "ename": "",
                    "traceback": []
                },
                {
                    "output_type": "display_data",
                    "data": {
                        "text/html": "Total execution time: 00:00:00.001"
                    },
                    "metadata": {}
                }
            ],
            "execution_count": 25
        },
        {
            "cell_type": "code",
            "source": [
                "DROP TABLE bidrl.Items"
            ],
            "metadata": {
                "azdata_cell_guid": "f3ecfa90-6e34-4136-9877-f1faf1718602",
                "language": "sql",
                "tags": []
            },
            "outputs": [
                {
                    "output_type": "display_data",
                    "data": {
                        "text/html": "Commands completed successfully."
                    },
                    "metadata": {}
                },
                {
                    "output_type": "display_data",
                    "data": {
                        "text/html": "Total execution time: 00:00:00.003"
                    },
                    "metadata": {}
                }
            ],
            "execution_count": 21
        }
    ]
}