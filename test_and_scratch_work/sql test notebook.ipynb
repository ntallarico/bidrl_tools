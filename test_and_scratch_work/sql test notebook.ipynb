{
    "metadata": {
        "kernelspec": {
            "name": "SQL",
            "display_name": "SQL",
            "language": "sql"
        },
        "language_info": {
            "name": "sql",
            "version": ""
        }
    },
    "nbformat_minor": 2,
    "nbformat": 4,
    "cells": [
        {
            "cell_type": "code",
            "source": [
                "IF EXISTS (SELECT * FROM sys.schemas WHERE name = 'bidrl')\r\n",
                "    EXEC('DROP SCHEMA bidrl')"
            ],
            "metadata": {
                "language": "sql",
                "azdata_cell_guid": "5be9eac6-36cc-4f21-9b04-2137ebb20052",
                "tags": []
            },
            "outputs": [
                {
                    "output_type": "error",
                    "evalue": "Msg 3729, Level 16, State 1, Line 1\r\nCannot drop schema 'bidrl' because it is being referenced by object 'Items'.",
                    "ename": "",
                    "traceback": []
                },
                {
                    "output_type": "display_data",
                    "data": {
                        "text/html": "Total execution time: 00:00:00.006"
                    },
                    "metadata": {}
                }
            ],
            "execution_count": 22
        },
        {
            "cell_type": "code",
            "source": [
                "IF NOT EXISTS (SELECT * FROM sys.schemas WHERE name = 'bidrl')\r\n",
                "    EXEC('CREATE SCHEMA bidrl')"
            ],
            "metadata": {
                "language": "sql",
                "azdata_cell_guid": "b3d03fbc-3e54-4e22-bd69-ebb8d13ceca2"
            },
            "outputs": [
                {
                    "output_type": "display_data",
                    "data": {
                        "text/html": "Commands completed successfully."
                    },
                    "metadata": {}
                },
                {
                    "output_type": "display_data",
                    "data": {
                        "text/html": "Total execution time: 00:00:00.003"
                    },
                    "metadata": {}
                }
            ],
            "execution_count": 23
        },
        {
            "cell_type": "code",
            "source": [
                "DROP TABLE IF EXISTS bidrl.items;\r\n",
                "\r\n",
                "-- Create 'items' table if it does not exist\r\n",
                "CREATE TABLE bidrl.items (\r\n",
                "    item_id INT PRIMARY KEY,\r\n",
                "    description NVARCHAR(255),\r\n",
                "    auction_id INT,\r\n",
                "    end_time_unix BIGINT,\r\n",
                "    url NVARCHAR(255)\r\n",
                ");"
            ],
            "metadata": {
                "language": "sql",
                "azdata_cell_guid": "5715fd5d-d69f-4d41-abb5-332db083b50b"
            },
            "outputs": [
                {
                    "output_type": "display_data",
                    "data": {
                        "text/html": "Commands completed successfully."
                    },
                    "metadata": {}
                },
                {
                    "output_type": "display_data",
                    "data": {
                        "text/html": "Total execution time: 00:00:00.004"
                    },
                    "metadata": {}
                }
            ],
            "execution_count": 30
        },
        {
            "cell_type": "code",
            "source": [
                ""
            ],
            "metadata": {
                "language": "sql",
                "azdata_cell_guid": "8736b04d-6a87-4186-b6c6-07b8af24b633"
            },
            "outputs": [],
            "execution_count": null
        },
        {
            "cell_type": "code",
            "source": [
                ""
            ],
            "metadata": {
                "language": "sql",
                "azdata_cell_guid": "6d7ce9e5-1cad-414a-a424-8757c691d2ef"
            },
            "outputs": [],
            "execution_count": null
        },
        {
            "cell_type": "code",
            "source": [
                ""
            ],
            "metadata": {
                "language": "sql",
                "azdata_cell_guid": "62dc0eb9-f58f-46a8-bc35-b0c315c9b4b3"
            },
            "outputs": [],
            "execution_count": null
        },
        {
            "cell_type": "code",
            "source": [
                ""
            ],
            "metadata": {
                "language": "sql",
                "azdata_cell_guid": "54c739fa-4e52-4add-b929-75e2ab9fb923"
            },
            "outputs": [],
            "execution_count": null
        },
        {
            "cell_type": "code",
            "source": [
                ""
            ],
            "metadata": {
                "language": "sql",
                "azdata_cell_guid": "dc8146b8-d324-4ae9-9e8b-c3208f186cc2"
            },
            "outputs": [],
            "execution_count": null
        },
        {
            "cell_type": "code",
            "source": [
                ""
            ],
            "metadata": {
                "language": "sql",
                "azdata_cell_guid": "047eafaf-3211-476e-b74a-9b04b9d8cd11"
            },
            "outputs": [],
            "execution_count": null
        },
        {
            "cell_type": "code",
            "source": [
                ""
            ],
            "metadata": {
                "language": "sql",
                "azdata_cell_guid": "04c2d4ed-7e5e-4d68-a22e-282dcd59dac6"
            },
            "outputs": [],
            "execution_count": null
        },
        {
            "cell_type": "code",
            "source": [
                ""
            ],
            "metadata": {
                "language": "sql",
                "azdata_cell_guid": "ec070dd5-7d29-4e5d-a366-f989f32af943"
            },
            "outputs": [],
            "execution_count": null
        },
        {
            "cell_type": "code",
            "source": [
                ""
            ],
            "metadata": {
                "language": "sql",
                "azdata_cell_guid": "5d78ded3-f305-4b24-a9e1-2aa8932931f4"
            },
            "outputs": [],
            "execution_count": null
        },
        {
            "cell_type": "code",
            "source": [
                "-- Set the default schema\r\n",
                "USE BFDB;\r\n",
                "\r\n",
                "\r\n",
                "\r\n",
                "-- Create 'auctions' table if it does not exist\r\n",
                "CREATE TABLE IF NOT EXISTS auctions (\r\n",
                "    auction_id INT PRIMARY KEY,\r\n",
                "    title VARCHAR(255),\r\n",
                "    start_time_unix BIGINT,\r\n",
                "    end_time_unix BIGINT,\r\n",
                "    status VARCHAR(50)\r\n",
                ");\r\n",
                "\r\n",
                "-- Create 'invoices' table if it does not exist\r\n",
                "CREATE TABLE IF NOT EXISTS invoices (\r\n",
                "    invoice_id INT PRIMARY KEY,\r\n",
                "    user_id INT,\r\n",
                "    auction_id INT,\r\n",
                "    total_amount DECIMAL(10, 2),\r\n",
                "    issued_date DATE,\r\n",
                "    due_date DATE,\r\n",
                "    status VARCHAR(50)\r\n",
                ");\r\n",
                "\r\n",
                "-- Create 'users' table if it does not exist\r\n",
                "CREATE TABLE IF NOT EXISTS users (\r\n",
                "    user_id INT PRIMARY KEY,\r\n",
                "    username VARCHAR(255),\r\n",
                "    password_hash VARCHAR(255),\r\n",
                "    email VARCHAR(255),\r\n",
                "    created_at TIMESTAMP\r\n",
                ");\r\n",
                "\r\n",
                "-- Create 'bid_history' table if it does not exist\r\n",
                "CREATE TABLE IF NOT EXISTS bid_history (\r\n",
                "    bid_id INT PRIMARY KEY,\r\n",
                "    user_id INT,\r\n",
                "    item_id INT,\r\n",
                "    bid_amount DECIMAL(10, 2),\r\n",
                "    bid_time TIMESTAMP\r\n",
                ");"
            ],
            "metadata": {
                "azdata_cell_guid": "d189dc59-d801-4043-aeec-fc287ca4b52b",
                "language": "sql",
                "tags": []
            },
            "outputs": [
                {
                    "output_type": "error",
                    "evalue": "Msg 156, Level 15, State 1, Line 1\r\nIncorrect syntax near the keyword 'CASCADE'.",
                    "ename": "",
                    "traceback": []
                },
                {
                    "output_type": "error",
                    "evalue": "Msg 111, Level 15, State 1, Line 4\r\n'CREATE SCHEMA' must be the first statement in a query batch.",
                    "ename": "",
                    "traceback": []
                },
                {
                    "output_type": "error",
                    "evalue": "Msg 102, Level 15, State 1, Line 4\r\nIncorrect syntax near 'bidrl'.",
                    "ename": "",
                    "traceback": []
                },
                {
                    "output_type": "error",
                    "evalue": "Msg 911, Level 16, State 1, Line 7\r\nDatabase 'bidrl' does not exist. Make sure that the name is entered correctly.",
                    "ename": "",
                    "traceback": []
                },
                {
                    "output_type": "display_data",
                    "data": {
                        "text/html": "Total execution time: 00:00:00.004"
                    },
                    "metadata": {}
                }
            ],
            "execution_count": 12
        },
        {
            "cell_type": "code",
            "source": [
                "DROP TABLE bidrl.Items"
            ],
            "metadata": {
                "azdata_cell_guid": "f3ecfa90-6e34-4136-9877-f1faf1718602",
                "language": "sql",
                "tags": []
            },
            "outputs": [
                {
                    "output_type": "display_data",
                    "data": {
                        "text/html": "Commands completed successfully."
                    },
                    "metadata": {}
                },
                {
                    "output_type": "display_data",
                    "data": {
                        "text/html": "Total execution time: 00:00:00.003"
                    },
                    "metadata": {}
                }
            ],
            "execution_count": 21
        }
    ]
}